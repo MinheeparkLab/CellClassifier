{
 "cells": [
  {
   "cell_type": "code",
   "execution_count": 4,
   "metadata": {},
   "outputs": [],
   "source": [
    "import os\n",
    "import numpy as np\n",
    "import pandas as pd\n",
    "\n",
    "import matplotlib.pyplot as plt\n",
    "import matplotlib.cm as cm\n",
    "%matplotlib inline\n",
    "from mpl_toolkits.axes_grid1 import make_axes_locatable\n",
    "import matplotlib.colors as mplcolors\n",
    "\n",
    "from dash import Dash, html, dcc, callback, Output, Input, State\n",
    "import plotly\n",
    "import plotly.express as px\n",
    "import plotly.graph_objects as go"
   ]
  },
  {
   "cell_type": "code",
   "execution_count": 5,
   "metadata": {},
   "outputs": [
    {
     "data": {
      "text/plain": [
       "<matplotlib.image.AxesImage at 0x7fc08ab5b640>"
      ]
     },
     "execution_count": 5,
     "metadata": {},
     "output_type": "execute_result"
    },
    {
     "data": {
      "image/png": "[encoded data removed]",
      "text/plain": [
       "<Figure size 432x288 with 1 Axes>"
      ]
     },
     "metadata": {
      "needs_background": "light"
     },
     "output_type": "display_data"
    }
   ],
   "source": [
    "image = np.random.random(100).reshape(10,10)\n",
    "plt.imshow(image)"
   ]
  },
  {
   "cell_type": "code",
   "execution_count": 10,
   "metadata": {},
   "outputs": [
    {
     "ename": "ValueError",
     "evalue": "The first argument to the plotly.graph_objs.Scatter\nconstructor must be a dict or\nan instance of :class:`plotly.graph_objs.Scatter`",
     "output_type": "error",
     "traceback": [
      "\u001b[0;31m---------------------------------------------------------------------------\u001b[0m",
      "\u001b[0;31mValueError\u001b[0m                                Traceback (most recent call last)",
      "\u001b[1;32m/Users/hanmanhyuk/My Drive/Projects/HMH_YDW1_cDC1+XIST+CD86/Cell_segmentation/FigureGo.ipynb Cell 3\u001b[0m line \u001b[0;36m<cell line: 1>\u001b[0;34m()\u001b[0m\n\u001b[0;32m----> <a href='vscode-notebook-cell:/Users/hanmanhyuk/My%20Drive/Projects/HMH_YDW1_cDC1%2BXIST%2BCD86/Cell_segmentation/FigureGo.ipynb#W1sZmlsZQ%3D%3D?line=0'>1</a>\u001b[0m fig \u001b[39m=\u001b[39m plotly\u001b[39m.\u001b[39mgraph_objects\u001b[39m.\u001b[39mFigure(go\u001b[39m.\u001b[39;49mScatter(np\u001b[39m.\u001b[39;49marange(\u001b[39m10\u001b[39;49m),np\u001b[39m.\u001b[39;49marange(\u001b[39m10\u001b[39;49m)))\n",
      "File \u001b[0;32m/opt/anaconda3/lib/python3.8/site-packages/plotly/graph_objs/_scatter.py:3253\u001b[0m, in \u001b[0;36mScatter.__init__\u001b[0;34m(self, arg, alignmentgroup, cliponaxis, connectgaps, customdata, customdatasrc, dx, dy, error_x, error_y, fill, fillcolor, fillpattern, groupnorm, hoverinfo, hoverinfosrc, hoverlabel, hoveron, hovertemplate, hovertemplatesrc, hovertext, hovertextsrc, ids, idssrc, legend, legendgroup, legendgrouptitle, legendrank, legendwidth, line, marker, meta, metasrc, mode, name, offsetgroup, opacity, orientation, selected, selectedpoints, showlegend, stackgaps, stackgroup, stream, text, textfont, textposition, textpositionsrc, textsrc, texttemplate, texttemplatesrc, uid, uirevision, unselected, visible, x, x0, xaxis, xcalendar, xhoverformat, xperiod, xperiod0, xperiodalignment, xsrc, y, y0, yaxis, ycalendar, yhoverformat, yperiod, yperiod0, yperiodalignment, ysrc, **kwargs)\u001b[0m\n\u001b[1;32m   3251\u001b[0m             arg \u001b[39m=\u001b[39m _copy\u001b[39m.\u001b[39mcopy(arg)\n\u001b[1;32m   3252\u001b[0m         \u001b[39melse\u001b[39;00m:\n\u001b[0;32m-> 3253\u001b[0m             \u001b[39mraise\u001b[39;00m \u001b[39mValueError\u001b[39;00m(\n\u001b[1;32m   3254\u001b[0m \u001b[39m                \u001b[39m\u001b[39m\"\"\"\\\u001b[39;00m\n\u001b[1;32m   3255\u001b[0m \u001b[39mThe first argument to the plotly.graph_objs.Scatter\u001b[39;00m\n\u001b[1;32m   3256\u001b[0m \u001b[39mconstructor must be a dict or\u001b[39;00m\n\u001b[1;32m   3257\u001b[0m \u001b[39man instance of :class:`plotly.graph_objs.Scatter`\"\"\"\u001b[39;00m\n\u001b[1;32m   3258\u001b[0m             )\n\u001b[1;32m   3260\u001b[0m         \u001b[39m# Handle skip_invalid\u001b[39;00m\n\u001b[1;32m   3261\u001b[0m         \u001b[39m# -------------------\u001b[39;00m\n\u001b[1;32m   3262\u001b[0m         \u001b[39mself\u001b[39m\u001b[39m.\u001b[39m_skip_invalid \u001b[39m=\u001b[39m kwargs\u001b[39m.\u001b[39mpop(\u001b[39m\"\u001b[39m\u001b[39mskip_invalid\u001b[39m\u001b[39m\"\u001b[39m, \u001b[39mFalse\u001b[39;00m)\n",
      "\u001b[0;31mValueError\u001b[0m: The first argument to the plotly.graph_objs.Scatter\nconstructor must be a dict or\nan instance of :class:`plotly.graph_objs.Scatter`"
     ]
    }
   ],
   "source": [
    "fig = plotly.graph_objects.Figure(go.Scatter(np.arange(10),np.arange(10)))"
   ]
  },
  {
   "cell_type": "code",
   "execution_count": 9,
   "metadata": {},
   "outputs": [
    {
     "ename": "TypeError",
     "evalue": "add_traces() missing 1 required positional argument: 'data'",
     "output_type": "error",
     "traceback": [
      "\u001b[0;31m---------------------------------------------------------------------------\u001b[0m",
      "\u001b[0;31mTypeError\u001b[0m                                 Traceback (most recent call last)",
      "\u001b[1;32m/Users/hanmanhyuk/My Drive/Projects/HMH_YDW1_cDC1+XIST+CD86/Cell_segmentation/FigureGo.ipynb Cell 4\u001b[0m line \u001b[0;36m<cell line: 1>\u001b[0;34m()\u001b[0m\n\u001b[0;32m----> <a href='vscode-notebook-cell:/Users/hanmanhyuk/My%20Drive/Projects/HMH_YDW1_cDC1%2BXIST%2BCD86/Cell_segmentation/FigureGo.ipynb#W2sZmlsZQ%3D%3D?line=0'>1</a>\u001b[0m fig\u001b[39m.\u001b[39;49madd_traces(go\u001b[39m.\u001b[39;49mScatter(x\u001b[39m=\u001b[39;49mnp\u001b[39m.\u001b[39;49marange(\u001b[39m10\u001b[39;49m),y\u001b[39m=\u001b[39;49mnp\u001b[39m.\u001b[39;49marange(\u001b[39m10\u001b[39;49m)))\n",
      "\u001b[0;31mTypeError\u001b[0m: add_traces() missing 1 required positional argument: 'data'"
     ]
    }
   ],
   "source": [
    "fig.add_traces(go.Scatter(x=np.arange(10),y=np.arange(10)))"
   ]
  },
  {
   "cell_type": "code",
   "execution_count": null,
   "metadata": {},
   "outputs": [],
   "source": []
  }
 ],
 "metadata": {
  "kernelspec": {
   "display_name": "base",
   "language": "python",
   "name": "python3"
  },
  "language_info": {
   "codemirror_mode": {
    "name": "ipython",
    "version": 3
   },
   "file_extension": ".py",
   "mimetype": "text/x-python",
   "name": "python",
   "nbconvert_exporter": "python",
   "pygments_lexer": "ipython3",
   "version": "3.8.13"
  }
 },
 "nbformat": 4,
 "nbformat_minor": 2
}
