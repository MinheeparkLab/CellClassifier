{
 "cells": [
  {
   "cell_type": "code",
   "execution_count": 1,
   "metadata": {},
   "outputs": [],
   "source": [
    "import os, sys\n",
    "import numpy as np\n",
    "import colour\n",
    "\n",
    "import matplotlib.pyplot as plt\n",
    "%matplotlib inline"
   ]
  },
  {
   "cell_type": "code",
   "execution_count": 3,
   "metadata": {},
   "outputs": [
    {
     "name": "stdout",
     "output_type": "stream",
     "text": [
      "===============================================================================\n",
      "*                                                                             *\n",
      "*   Interpreter :                                                             *\n",
      "*       python : 3.8.13 | packaged by conda-forge | (default, Mar 25 2022,    *\n",
      "*   06:05:47)                                                                 *\n",
      "*                [Clang 12.0.1 ]                                              *\n",
      "*                                                                             *\n",
      "*   colour-science.org :                                                      *\n",
      "*       colour : 0.4.1                                                        *\n",
      "*                                                                             *\n",
      "*   Runtime :                                                                 *\n",
      "*       imageio : 2.9.0                                                       *\n",
      "*       matplotlib : 3.5.0                                                    *\n",
      "*       networkx : 2.8.5                                                      *\n",
      "*       numpy : 1.21.5                                                        *\n",
      "*       pandas : 1.3.4                                                        *\n",
      "*       scipy : 1.7.3                                                         *\n",
      "*       sklearn : 1.0.1                                                       *\n",
      "*       tqdm : 4.64.0                                                         *\n",
      "*                                                                             *\n",
      "===============================================================================\n"
     ]
    },
    {
     "data": {
      "text/plain": [
       "defaultdict(dict,\n",
       "            {'Interpreter': {'python': '3.8.13 | packaged by conda-forge | (default, Mar 25 2022, 06:05:47) \\n[Clang 12.0.1 ]'},\n",
       "             'colour-science.org': {'colour': '0.4.1'},\n",
       "             'Runtime': {'imageio': '2.9.0',\n",
       "              'matplotlib': '3.5.0',\n",
       "              'networkx': '2.8.5',\n",
       "              'numpy': '1.21.5',\n",
       "              'pandas': '1.3.4',\n",
       "              'scipy': '1.7.3',\n",
       "              'sklearn': '1.0.1',\n",
       "              'tqdm': '4.64.0'}})"
      ]
     },
     "execution_count": 3,
     "metadata": {},
     "output_type": "execute_result"
    }
   ],
   "source": [
    "colour.utilities.describe_environment()"
   ]
  },
  {
   "cell_type": "code",
   "execution_count": 13,
   "metadata": {},
   "outputs": [
    {
     "ename": "AttributeError",
     "evalue": "'numpy.ndarray' object has no attribute 'values'",
     "output_type": "error",
     "traceback": [
      "\u001b[0;31m---------------------------------------------------------------------------\u001b[0m",
      "\u001b[0;31mAttributeError\u001b[0m                            Traceback (most recent call last)",
      "\u001b[1;32m/Users/hanmanhyuk/My Drive/Projects/HMH_YDW1_cDC1+XIST+CD86/Cell_segmentation/colortest.ipynb Cell 3\u001b[0m line \u001b[0;36m<cell line: 3>\u001b[0;34m()\u001b[0m\n\u001b[1;32m      <a href='vscode-notebook-cell:/Users/hanmanhyuk/My%20Drive/Projects/HMH_YDW1_cDC1%2BXIST%2BCD86/Cell_segmentation/colortest.ipynb#W2sZmlsZQ%3D%3D?line=0'>1</a>\u001b[0m \u001b[39mfrom\u001b[39;00m \u001b[39mcolour\u001b[39;00m\u001b[39m.\u001b[39;00m\u001b[39mplotting\u001b[39;00m \u001b[39mimport\u001b[39;00m \u001b[39m*\u001b[39m\n\u001b[1;32m      <a href='vscode-notebook-cell:/Users/hanmanhyuk/My%20Drive/Projects/HMH_YDW1_cDC1%2BXIST%2BCD86/Cell_segmentation/colortest.ipynb#W2sZmlsZQ%3D%3D?line=1'>2</a>\u001b[0m RGB \u001b[39m=\u001b[39m np\u001b[39m.\u001b[39mrandom\u001b[39m.\u001b[39mrandom((\u001b[39m32\u001b[39m,\u001b[39m32\u001b[39m,\u001b[39m3\u001b[39m))\n\u001b[0;32m----> <a href='vscode-notebook-cell:/Users/hanmanhyuk/My%20Drive/Projects/HMH_YDW1_cDC1%2BXIST%2BCD86/Cell_segmentation/colortest.ipynb#W2sZmlsZQ%3D%3D?line=2'>3</a>\u001b[0m plot_chromaticity_diagram_CIE1931(RGB)\n",
      "File \u001b[0;32m~/.local/lib/python3.8/site-packages/colour/plotting/common.py:335\u001b[0m, in \u001b[0;36moverride_style.<locals>.wrapper.<locals>.wrapped\u001b[0;34m(*args, **kwargs)\u001b[0m\n\u001b[1;32m    328\u001b[0m style_overrides \u001b[39m=\u001b[39m {\n\u001b[1;32m    329\u001b[0m     key: value\n\u001b[1;32m    330\u001b[0m     \u001b[39mfor\u001b[39;00m key, value \u001b[39min\u001b[39;00m keywords\u001b[39m.\u001b[39mitems()\n\u001b[1;32m    331\u001b[0m     \u001b[39mif\u001b[39;00m key \u001b[39min\u001b[39;00m plt\u001b[39m.\u001b[39mrcParams\u001b[39m.\u001b[39mkeys()\n\u001b[1;32m    332\u001b[0m }\n\u001b[1;32m    334\u001b[0m \u001b[39mwith\u001b[39;00m plt\u001b[39m.\u001b[39mstyle\u001b[39m.\u001b[39mcontext(style_overrides):\n\u001b[0;32m--> 335\u001b[0m     \u001b[39mreturn\u001b[39;00m function(\u001b[39m*\u001b[39;49margs, \u001b[39m*\u001b[39;49m\u001b[39m*\u001b[39;49mkwargs)\n",
      "File \u001b[0;32m~/.local/lib/python3.8/site-packages/colour/plotting/diagrams.py:695\u001b[0m, in \u001b[0;36mplot_chromaticity_diagram_CIE1931\u001b[0;34m(cmfs, show_diagram_colours, show_spectral_locus, **kwargs)\u001b[0m\n\u001b[1;32m    692\u001b[0m settings \u001b[39m=\u001b[39m \u001b[39mdict\u001b[39m(kwargs)\n\u001b[1;32m    693\u001b[0m settings\u001b[39m.\u001b[39mupdate({\u001b[39m\"\u001b[39m\u001b[39mmethod\u001b[39m\u001b[39m\"\u001b[39m: \u001b[39m\"\u001b[39m\u001b[39mCIE 1931\u001b[39m\u001b[39m\"\u001b[39m})\n\u001b[0;32m--> 695\u001b[0m \u001b[39mreturn\u001b[39;00m plot_chromaticity_diagram(\n\u001b[1;32m    696\u001b[0m     cmfs, show_diagram_colours, show_spectral_locus, \u001b[39m*\u001b[39;49m\u001b[39m*\u001b[39;49msettings\n\u001b[1;32m    697\u001b[0m )\n",
      "File \u001b[0;32m~/.local/lib/python3.8/site-packages/colour/plotting/common.py:335\u001b[0m, in \u001b[0;36moverride_style.<locals>.wrapper.<locals>.wrapped\u001b[0;34m(*args, **kwargs)\u001b[0m\n\u001b[1;32m    328\u001b[0m style_overrides \u001b[39m=\u001b[39m {\n\u001b[1;32m    329\u001b[0m     key: value\n\u001b[1;32m    330\u001b[0m     \u001b[39mfor\u001b[39;00m key, value \u001b[39min\u001b[39;00m keywords\u001b[39m.\u001b[39mitems()\n\u001b[1;32m    331\u001b[0m     \u001b[39mif\u001b[39;00m key \u001b[39min\u001b[39;00m plt\u001b[39m.\u001b[39mrcParams\u001b[39m.\u001b[39mkeys()\n\u001b[1;32m    332\u001b[0m }\n\u001b[1;32m    334\u001b[0m \u001b[39mwith\u001b[39;00m plt\u001b[39m.\u001b[39mstyle\u001b[39m.\u001b[39mcontext(style_overrides):\n\u001b[0;32m--> 335\u001b[0m     \u001b[39mreturn\u001b[39;00m function(\u001b[39m*\u001b[39;49margs, \u001b[39m*\u001b[39;49m\u001b[39m*\u001b[39;49mkwargs)\n",
      "File \u001b[0;32m~/.local/lib/python3.8/site-packages/colour/plotting/diagrams.py:607\u001b[0m, in \u001b[0;36mplot_chromaticity_diagram\u001b[0;34m(cmfs, show_diagram_colours, show_spectral_locus, method, **kwargs)\u001b[0m\n\u001b[1;32m    604\u001b[0m     settings[\u001b[39m\"\u001b[39m\u001b[39mstandalone\u001b[39m\u001b[39m\"\u001b[39m] \u001b[39m=\u001b[39m \u001b[39mFalse\u001b[39;00m\n\u001b[1;32m    605\u001b[0m     settings[\u001b[39m\"\u001b[39m\u001b[39mcmfs\u001b[39m\u001b[39m\"\u001b[39m] \u001b[39m=\u001b[39m cmfs\n\u001b[0;32m--> 607\u001b[0m     plot_chromaticity_diagram_colours(\u001b[39m*\u001b[39;49m\u001b[39m*\u001b[39;49msettings)\n\u001b[1;32m    609\u001b[0m \u001b[39mif\u001b[39;00m show_spectral_locus:\n\u001b[1;32m    610\u001b[0m     settings \u001b[39m=\u001b[39m {\u001b[39m\"\u001b[39m\u001b[39maxes\u001b[39m\u001b[39m\"\u001b[39m: axes, \u001b[39m\"\u001b[39m\u001b[39mmethod\u001b[39m\u001b[39m\"\u001b[39m: method}\n",
      "File \u001b[0;32m~/.local/lib/python3.8/site-packages/colour/plotting/common.py:335\u001b[0m, in \u001b[0;36moverride_style.<locals>.wrapper.<locals>.wrapped\u001b[0;34m(*args, **kwargs)\u001b[0m\n\u001b[1;32m    328\u001b[0m style_overrides \u001b[39m=\u001b[39m {\n\u001b[1;32m    329\u001b[0m     key: value\n\u001b[1;32m    330\u001b[0m     \u001b[39mfor\u001b[39;00m key, value \u001b[39min\u001b[39;00m keywords\u001b[39m.\u001b[39mitems()\n\u001b[1;32m    331\u001b[0m     \u001b[39mif\u001b[39;00m key \u001b[39min\u001b[39;00m plt\u001b[39m.\u001b[39mrcParams\u001b[39m.\u001b[39mkeys()\n\u001b[1;32m    332\u001b[0m }\n\u001b[1;32m    334\u001b[0m \u001b[39mwith\u001b[39;00m plt\u001b[39m.\u001b[39mstyle\u001b[39m.\u001b[39mcontext(style_overrides):\n\u001b[0;32m--> 335\u001b[0m     \u001b[39mreturn\u001b[39;00m function(\u001b[39m*\u001b[39;49margs, \u001b[39m*\u001b[39;49m\u001b[39m*\u001b[39;49mkwargs)\n",
      "File \u001b[0;32m~/.local/lib/python3.8/site-packages/colour/plotting/diagrams.py:471\u001b[0m, in \u001b[0;36mplot_chromaticity_diagram_colours\u001b[0;34m(samples, diagram_colours, diagram_opacity, diagram_clipping_path, cmfs, method, **kwargs)\u001b[0m\n\u001b[1;32m    468\u001b[0m illuminant \u001b[39m=\u001b[39m CONSTANTS_COLOUR_STYLE\u001b[39m.\u001b[39mcolour\u001b[39m.\u001b[39mcolourspace\u001b[39m.\u001b[39mwhitepoint\n\u001b[1;32m    470\u001b[0m \u001b[39mif\u001b[39;00m method \u001b[39m==\u001b[39m \u001b[39m\"\u001b[39m\u001b[39mcie 1931\u001b[39m\u001b[39m\"\u001b[39m:\n\u001b[0;32m--> 471\u001b[0m     spectral_locus \u001b[39m=\u001b[39m XYZ_to_xy(cmfs\u001b[39m.\u001b[39;49mvalues, illuminant)\n\u001b[1;32m    472\u001b[0m \u001b[39melif\u001b[39;00m method \u001b[39m==\u001b[39m \u001b[39m\"\u001b[39m\u001b[39mcie 1960 ucs\u001b[39m\u001b[39m\"\u001b[39m:\n\u001b[1;32m    473\u001b[0m     spectral_locus \u001b[39m=\u001b[39m UCS_to_uv(XYZ_to_UCS(cmfs\u001b[39m.\u001b[39mvalues))\n",
      "\u001b[0;31mAttributeError\u001b[0m: 'numpy.ndarray' object has no attribute 'values'"
     ]
    },
    {
     "data": {
      "image/png": "[encoded data removed]",
      "text/plain": [
       "<Figure size 432x432 with 1 Axes>"
      ]
     },
     "metadata": {
      "needs_background": "light"
     },
     "output_type": "display_data"
    }
   ],
   "source": [
    "from colour.plotting import *"
   ]
  },
  {
   "cell_type": "code",
   "execution_count": 12,
   "metadata": {},
   "outputs": [
    {
     "data": {
      "text/plain": [
       "RGB_Colourspace(ACES2065-1,\n",
       "                [[  7.34700000e-01,   2.65300000e-01],\n",
       "                 [  0.00000000e+00,   1.00000000e+00],\n",
       "                 [  1.00000000e-04,  -7.70000000e-02]],\n",
       "                [ 0.32168,  0.33767],\n",
       "                ACES,\n",
       "                [[  9.52552396e-01,   0.00000000e+00,   9.36786000e-05],\n",
       "                 [  3.43966450e-01,   7.28166097e-01,  -7.21325464e-02],\n",
       "                 [  0.00000000e+00,   0.00000000e+00,   1.00882518e+00]],\n",
       "                [[  1.04981102e+00,   0.00000000e+00,  -9.74845000e-05],\n",
       "                 [ -4.95903023e-01,   1.37331305e+00,   9.82400361e-02],\n",
       "                 [  0.00000000e+00,   0.00000000e+00,   9.91252018e-01]],\n",
       "                <function linear_function at 0x7ff04ef47f70>,\n",
       "                <function linear_function at 0x7ff04ef47f70>,\n",
       "                False,\n",
       "                False)"
      ]
     },
     "execution_count": 12,
     "metadata": {},
     "output_type": "execute_result"
    }
   ],
   "source": [
    "colour.RGB_COLOURSPACES['ACES2065-1']"
   ]
  },
  {
   "cell_type": "code",
   "execution_count": null,
   "metadata": {},
   "outputs": [],
   "source": []
  }
 ],
 "metadata": {
  "kernelspec": {
   "display_name": "base",
   "language": "python",
   "name": "python3"
  },
  "language_info": {
   "codemirror_mode": {
    "name": "ipython",
    "version": 3
   },
   "file_extension": ".py",
   "mimetype": "text/x-python",
   "name": "python",
   "nbconvert_exporter": "python",
   "pygments_lexer": "ipython3",
   "version": "3.8.13"
  }
 },
 "nbformat": 4,
 "nbformat_minor": 2
}
